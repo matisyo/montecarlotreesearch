{
 "cells": [
  {
   "cell_type": "code",
   "execution_count": 14,
   "metadata": {},
   "outputs": [],
   "source": [
    "from game.game import *\n",
    "from memorymontecarlo.memcts import Memcts\n",
    "from minmax.minimax import *\n",
    "from montecarlo.uct import uct\n",
    "def play_one(k,silent=True):\n",
    "    LARGO = 4\n",
    "    TABLERO_ALTO = 6\n",
    "    TABLERO_ANCHO = 7\n",
    "    t = Connect4(TABLERO_ANCHO, TABLERO_ALTO, LARGO)\n",
    "\n",
    "    agente = MiniMax(t,4)\n",
    "    agentemmc = Memcts(t)\n",
    "    p = 0\n",
    "    while not t.end:            \n",
    "        if  p == 0:\n",
    "            t2 = agentemmc.uct(k, plot=False,silent=silent)[1]\n",
    "        else:        \n",
    "            t2 = agente.best_move(silent=silent)\n",
    "            \n",
    "        p=(p+1)%2\n",
    "        agentemmc.move(t2)\n",
    "        t.move(t2)\n",
    "    t.show()\n",
    "    return t.winner"
   ]
  },
  {
   "cell_type": "code",
   "execution_count": 15,
   "metadata": {},
   "outputs": [
    {
     "name": "stdout",
     "output_type": "stream",
     "text": [
      "0 (-0.11,-8,72), 1 (0.07,12,182), 2 (0.14,44,321), 3 (0.28,595,2130), 4 (0.03,4,144), 5 (-0.03,-3,108), 6 (-0.26,-11,43)\n",
      "\n",
      "4 0.5, 5 0.5, 6 0.5, 0 0.5, 3 0.5, 1 0.5, 2 0.5, \n",
      "0 (0.14,16,116), 1 (0.27,70,264), 2 (0.22,43,193), 3 (0.42,725,1723), 4 (0.27,70,262), 5 (0.32,131,413), 6 (0.15,18,120)\n",
      "\n",
      "4 0.5, 3 0.5, 6 0.5, 5 0.5, 0 0.5, 1 0.5, 2 0.5, \n",
      "0 (0.32,207,654), 1 (0.33,250,760), 2 (0.28,120,430), 3 (0.31,147,479), 4 (0.06,6,97), 5 (0.35,369,1053), 6 (0.19,37,198)\n",
      "\n",
      "5 0.5, 4 0.5, 6 0.5, 3 0.5, 0 0.5, 1 0.5, 2 0.5, \n",
      "0 (0.24,73,308), 1 (0.15,25,164), 2 (0.34,306,905), 3 (0.31,206,663), 4 (0.03,3,90), 5 (0.31,198,643), 6 (0.25,86,343)\n",
      "\n",
      "4 -0.9999, 2 0.5, 5 0.5, 1 0.5, 6 0.5, 0 0.5, 3 0.5, \n",
      "0 (0.45,490,1087), 1 (0.33,92,278), 2 (0.38,172,450), 3 (0.35,121,343), 4 (-0.25,-6,24), 5 (0.42,273,655), 6 (0.29,61,207)\n",
      "\n",
      "2 0.5, 4 -0.9999, 5 0.5, 1 -0.9999, 6 0.5, 0 0.5, 3 0.5, \n",
      "0 (0.51,247,482), 1 (0.49,184,378), 2 (0.49,194,396), 3 (0.55,421,767), 4 (0.33,41,125), 5 (0.52,272,524), 6 (0.5,208,418)\n",
      "\n",
      "4 -0.9999, 2 0.5, 3 0.5, 1 -0.9999, 0 0.5, 6 0.5, 5 0.5, \n",
      "0 (0.61,319,521), 1 (0.63,437,695), 2 (0.56,182,327), 3 (0.58,227,393), 4 (0.34,30,87), 5 (0.58,246,422), 6 (0.63,443,704)\n",
      "\n",
      "3 0.5, 2 0.5, 4 -0.9999, 0 0.5, 6 0.5, 1 -0.9999, 5 0.5, \n",
      "0 (0.42,67,159), 1 (0.41,62,150), 2 (0.66,1582,2395), 3 (0.37,46,124), 4 (0.1,4,40), 5 (0.28,22,78), 6 (0.42,64,154)\n",
      "\n",
      "2 0.5, 4 -0.9999, 3 0.5, 0 0.5, 6 0.5, 1 -0.9999, 5 0.5, \n",
      "0 (0.72,599,831), 1 (0.66,281,423), 2 (0.54,90,166), 3 (0.55,97,175), 4 (0.67,288,429), 5 (0.72,565,788), 6 (0.66,263,399)\n",
      "\n",
      "2 0.5, 4 -0.9999, 3 0.5, 6 0.5, 0 0.5, 1 -0.9999, 5 0.5, \n",
      "0 (0.77,578,747), 1 (0.8,830,1042), 2 (0.53,62,116), 3 (0.59,92,155), 4 (0.58,86,148), 5 (0.51,53,103), 6 (0.78,630,807)\n",
      "\n",
      "2 -0.9999, 4 -0.9999, 3 -0.9999, 0 -0.9999, 6 -0.9999, 5 -0.9999, 1 -0.9997, \n",
      "0 (0.87,1405,1620), 1 (0.84,817,975), 2 (0.61,79,129), 3 (0.69,152,219), 4 (0.33,14,43), 5 (0.53,46,87), 6 (0.65,106,163)\n",
      "\n",
      "2 -0.9999, 4 -0.9999, 3 -0.9999, 0 -0.9999, 1 -0.9999, 6 -0.9999, 5 -0.9999, \n",
      "0 (0.69,76,110), 1 (1.0,2631,2631), 2 (0.72,92,128), 3 (0.7,86,122), 4 (0.67,67,100), 5 (0.68,71,105), 6 (0.78,150,192)\n",
      "\n",
      "[[0. 0. 0. 0. 0. 0. 0.]\n",
      " [2. 0. 0. 0. 0. 0. 0.]\n",
      " [1. 0. 1. 1. 0. 0. 2.]\n",
      " [1. 1. 2. 2. 0. 2. 2.]\n",
      " [1. 2. 1. 1. 0. 1. 1.]\n",
      " [2. 1. 2. 1. 0. 2. 2.]]\n"
     ]
    },
    {
     "data": {
      "text/plain": [
       "1"
      ]
     },
     "execution_count": 15,
     "metadata": {},
     "output_type": "execute_result"
    }
   ],
   "source": [
    "play_one(3000,False)"
   ]
  },
  {
   "cell_type": "code",
   "execution_count": 21,
   "metadata": {},
   "outputs": [
    {
     "name": "stdout",
     "output_type": "stream",
     "text": [
      "0, 1, 2, 3, 4, 5, 6, 7, 8, 9, 10, 11, 12, 13, 14, 15, 16, 17, 18, 19, 20, 21, 22, 23, 24, 25, 26, 27, 28, 29, 0, 1, 2, 3, 4, 5, 6, 7, 8, 9, 10, 11, 12, 13, 14, 15, 16, 17, 18, 19, 20, 21, 22, 23, 24, 25, 26, 27, 28, 29, 0, 1, 2, 3, 4, 5, 6, 7, 8, 9, 10, 11, 12, 13, 14, 15, 16, 17, 18, 19, 20, 21, 22, 23, 24, 25, 26, 27, 28, 29, 0, 1, 2, 3, 4, 5, 6, 7, 8, 9, 10, 11, 12, 13, 14, 15, 16, 17, 18, 19, 20, 21, 22, 23, 24, 25, 26, 27, 28, 29, 0, 1, 2, 3, 4, 5, 6, 7, 8, 9, 10, 11, 12, 13, 14, 15, 16, 17, 18, 19, 20, 21, 22, 23, 24, 25, 26, 27, 28, 29, 0, 1, 2, 3, 4, 5, 6, 7, 8, 9, 10, 11, 12, 13, 14, 15, 16, 17, 18, 19, 20, 21, 22, 23, 24, 25, 26, 27, 28, 29, 0, 1, 2, 3, 4, 5, 6, 7, 8, 9, 10, 11, 12, 13, 14, 15, 16, 17, 18, 19, 20, 21, 22, 23, 24, 25, 26, 27, 28, 29, 0, 1, 2, 3, 4, 5, 6, 7, 8, 9, 10, 11, 12, 13, 14, 15, 16, 17, 18, 19, 20, 21, 22, 23, 24, 25, 26, 27, 28, 29, 0, 1, 2, 3, 4, 5, 6, 7, 8, 9, 10, 11, 12, 13, 14, 15, 16, 17, 18, 19, 20, 21, 22, 23, 24, 25, 26, 27, 28, 29, 0, 1, 2, 3, 4, 5, 6, 7, 8, 9, 10, 11, 12, 13, 14, 15, 16, 17, 18, 19, 20, 21, 22, 23, 24, 25, 26, 27, 28, 29, 0, 1, 2, 3, 4, 5, 6, 7, 8, 9, 10, 11, 12, 13, 14, 15, 16, 17, 18, 19, 20, 21, 22, 23, 24, 25, 26, 27, 28, 29, 0, 1, 2, 3, 4, 5, 6, 7, 8, 9, 10, 11, 12, 13, 14, 15, 16, 17, 18, 19, 20, 21, 22, 23, 24, 25, 26, 27, 28, 29, 0, 1, 2, 3, 4, 5, 6, 7, 8, 9, 10, 11, 12, 13, 14, 15, 16, 17, 18, 19, 20, 21, 22, 23, 24, 25, 26, 27, 28, 29, 0, 1, 2, 3, 4, 5, 6, 7, 8, 9, 10, 11, 12, 13, 14, 15, 16, 17, 18, 19, 20, 21, 22, 23, 24, 25, 26, 27, 28, 29, 0, 1, 2, 3, 4, 5, 6, 7, 8, 9, 10, 11, 12, 13, 14, 15, 16, 17, 18, 19, 20, 21, 22, 23, 24, 25, 26, 27, 28, 29, "
     ]
    }
   ],
   "source": [
    "dc = {'x':[],'y':[]}\n",
    "for n in [30,35,40,45,50,60,70,75,80,90,100,200,500,1000,2000]:\n",
    "    cnt = 0\n",
    "    for i in range(30):\n",
    "        print(i,end=\", \")\n",
    "        k = play_one(n)\n",
    "        if k==1:\n",
    "            cnt+=1\n",
    "    dc['x'].append(n)\n",
    "    dc['y'].append(cnt)"
   ]
  },
  {
   "cell_type": "code",
   "execution_count": 24,
   "metadata": {},
   "outputs": [],
   "source": [
    "a = {}\n",
    "a['x']=dc['x']\n",
    "a['y']=dc['y']"
   ]
  },
  {
   "cell_type": "code",
   "execution_count": 28,
   "metadata": {},
   "outputs": [],
   "source": [
    "pd.DataFrame(a).to_csv('aumentar_iteraciones.csv',index=False)"
   ]
  },
  {
   "cell_type": "code",
   "execution_count": 29,
   "metadata": {},
   "outputs": [
    {
     "data": {
      "text/plain": [
       "<matplotlib.axes._subplots.AxesSubplot at 0x1bd8e2bacc8>"
      ]
     },
     "execution_count": 29,
     "metadata": {},
     "output_type": "execute_result"
    },
    {
     "data": {
      "image/png": "[encoded data removed]",
      "text/plain": [
       "<Figure size 432x288 with 1 Axes>"
      ]
     },
     "metadata": {
      "needs_background": "light"
     },
     "output_type": "display_data"
    }
   ],
   "source": [
    "import pandas as pd\n",
    "\n",
    "pd.DataFrame(a).plot(x='x',y='y')"
   ]
  },
  {
   "cell_type": "code",
   "execution_count": null,
   "metadata": {},
   "outputs": [],
   "source": []
  },
  {
   "cell_type": "code",
   "execution_count": null,
   "metadata": {},
   "outputs": [],
   "source": []
  },
  {
   "cell_type": "code",
   "execution_count": null,
   "metadata": {},
   "outputs": [],
   "source": []
  }
 ],
 "metadata": {
  "kernelspec": {
   "display_name": "Python 3",
   "language": "python",
   "name": "python3"
  },
  "language_info": {
   "codemirror_mode": {
    "name": "ipython",
    "version": 3
   },
   "file_extension": ".py",
   "mimetype": "text/x-python",
   "name": "python",
   "nbconvert_exporter": "python",
   "pygments_lexer": "ipython3",
   "version": "3.7.0"
  }
 },
 "nbformat": 4,
 "nbformat_minor": 4
}
