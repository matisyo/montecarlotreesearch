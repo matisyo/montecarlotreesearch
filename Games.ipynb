{
 "cells": [
  {
   "cell_type": "code",
   "execution_count": 4,
   "metadata": {},
   "outputs": [],
   "source": [
    "from game.game import *\n",
    "from memorymontecarlo.memcts import Memcts\n",
    "from minmax.minimax import *\n",
    "from montecarlo.uct import uct\n",
    "\n",
    "LARGO = 4\n",
    "TABLERO_ALTO = 6\n",
    "TABLERO_ANCHO = 7\n"
   ]
  },
  {
   "cell_type": "markdown",
   "metadata": {},
   "source": [
    "# Juego 1"
   ]
  },
  {
   "cell_type": "code",
   "execution_count": 43,
   "metadata": {},
   "outputs": [
    {
     "name": "stdout",
     "output_type": "stream",
     "text": [
      "[[0. 0. 1. 2. 1. 0. 0.]\n",
      " [0. 0. 2. 1. 1. 0. 0.]\n",
      " [0. 0. 2. 1. 2. 0. 0.]\n",
      " [0. 0. 1. 1. 2. 0. 0.]\n",
      " [0. 0. 1. 2. 1. 2. 1.]\n",
      " [2. 0. 2. 1. 2. 1. 2.]]\n"
     ]
    }
   ],
   "source": [
    "t = Connect4(TABLERO_ANCHO, TABLERO_ALTO, LARGO)\n",
    "t.move(3)\n",
    "t.move(3)\n",
    "t.move(3)\n",
    "t.move(4)\n",
    "t.move(3)\n",
    "t.move(2)\n",
    "t.move(3)\n",
    "t.move(0)\n",
    "t.move(2)\n",
    "t.move(3)\n",
    "t.move(5)\n",
    "t.move(6)\n",
    "t.move(6)\n",
    "t.move(5)\n",
    "t.move(4)\n",
    "t.move(4)\n",
    "t.move(2)\n",
    "t.move(4)\n",
    "t.move(4)\n",
    "t.move(2)\n",
    "t.move(4)\n",
    "t.move(2)\n",
    "t.move(2)\n",
    "#t.move(0)\n",
    "#t.move(0)\n",
    "t.show()"
   ]
  },
  {
   "cell_type": "markdown",
   "metadata": {},
   "source": [
    "# Juego 2"
   ]
  },
  {
   "cell_type": "code",
   "execution_count": 55,
   "metadata": {},
   "outputs": [
    {
     "name": "stdout",
     "output_type": "stream",
     "text": [
      "[[0. 0. 0. 0. 0. 0. 0.]\n",
      " [0. 0. 0. 2. 0. 0. 0.]\n",
      " [0. 0. 0. 1. 0. 0. 0.]\n",
      " [0. 1. 0. 1. 2. 0. 0.]\n",
      " [0. 2. 1. 2. 1. 0. 0.]\n",
      " [0. 2. 1. 1. 2. 0. 0.]]\n"
     ]
    }
   ],
   "source": [
    "t = Connect4(TABLERO_ANCHO, TABLERO_ALTO, LARGO)\n",
    "t.move(3)\n",
    "t.move(3)\n",
    "t.move(3)\n",
    "t.move(4)\n",
    "t.move(3)\n",
    "t.move(1)\n",
    "t.move(2)\n",
    "t.move(1)\n",
    "t.move(2)\n",
    "t.move(3)\n",
    "t.move(4)\n",
    "t.move(4)\n",
    "t.move(1)\n",
    "#t.move(4)\n",
    "#t.move(1)\n",
    "#t.move(4)\n",
    "\n",
    "\n",
    "\n",
    "#t.move(0)\n",
    "\n",
    "t.show()"
   ]
  },
  {
   "cell_type": "code",
   "execution_count": 125,
   "metadata": {},
   "outputs": [
    {
     "name": "stdout",
     "output_type": "stream",
     "text": [
      "0 (0.61,41,67), 1 (0.65,49,75), 2 (0.58,33,57), 3 (0.71,72,102), 4 (1.0,1400,1400), 5 (0.83,171,207), 6 (0.7,64,92)\n",
      "\n"
     ]
    },
    {
     "data": {
      "text/plain": [
       "4"
      ]
     },
     "execution_count": 125,
     "metadata": {},
     "output_type": "execute_result"
    }
   ],
   "source": [
    "agentemmc = Memcts(t)\n",
    "t2 = agentemmc.uct(2000, plot=False)[1]\n",
    "t2"
   ]
  },
  {
   "cell_type": "code",
   "execution_count": 57,
   "metadata": {},
   "outputs": [
    {
     "name": "stdout",
     "output_type": "stream",
     "text": [
      "2 -0.5, 5 -0.5, 6 -0.5, 1 -0.5, 0 -0.9995, 3 -0.5, 4 -0.5, \n"
     ]
    }
   ],
   "source": [
    "agente = MiniMax(t,5)\n",
    "t2 = agente.best_move(silent=False)"
   ]
  }
 ],
 "metadata": {
  "kernelspec": {
   "display_name": "Python 3",
   "language": "python",
   "name": "python3"
  },
  "language_info": {
   "codemirror_mode": {
    "name": "ipython",
    "version": 3
   },
   "file_extension": ".py",
   "mimetype": "text/x-python",
   "name": "python",
   "nbconvert_exporter": "python",
   "pygments_lexer": "ipython3",
   "version": "3.7.0"
  }
 },
 "nbformat": 4,
 "nbformat_minor": 4
}
