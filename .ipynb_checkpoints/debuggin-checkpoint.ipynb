{
 "cells": [
  {
   "cell_type": "code",
   "execution_count": 17,
   "metadata": {},
   "outputs": [
    {
     "name": "stdout",
     "output_type": "stream",
     "text": [
      "0 (-0.06,-118,1829), 1 (-0.09,-103,1115), 2 (-0.18,-69,387), 3 (-0.43,-36,84), 4 (-0.14,-82,589), 5 (-0.1,-100,1016), 6 (-0.1,-98,980)\n",
      "\n"
     ]
    },
    {
     "data": {
      "text/plain": [
       "(5, 0)"
      ]
     },
     "execution_count": 17,
     "metadata": {},
     "output_type": "execute_result"
    }
   ],
   "source": [
    "from game.game import *\n",
    "from montecarlo.uct import *\n",
    "from memorymontecarlo.memcts import Memcts\n",
    "\n",
    "LARGO = 4\n",
    "TABLERO_ALTO = 6\n",
    "TABLERO_ANCHO = 7\n",
    "t = Connect4(TABLERO_ANCHO, TABLERO_ALTO, LARGO)\n",
    "agentemmc = Memcts(t)\n",
    "agentemmc.uct(6000)"
   ]
  },
  {
   "cell_type": "code",
   "execution_count": 18,
   "metadata": {},
   "outputs": [
    {
     "name": "stdout",
     "output_type": "stream",
     "text": [
      "-1->0\n"
     ]
    }
   ],
   "source": [
    "agentemmc.move(0)"
   ]
  },
  {
   "cell_type": "code",
   "execution_count": null,
   "metadata": {},
   "outputs": [],
   "source": [
    "agentemmc.uct(1)"
   ]
  },
  {
   "cell_type": "code",
   "execution_count": 22,
   "metadata": {},
   "outputs": [],
   "source": [
    "agentemmc.move(6000)"
   ]
  },
  {
   "cell_type": "code",
   "execution_count": 21,
   "metadata": {},
   "outputs": [
    {
     "name": "stdout",
     "output_type": "stream",
     "text": [
      "0 (-0.22,-14,64), 1 (-0.09,-11,125), 2 (-0.39,-13,33), 3 (-0.42,-13,31), 4 (-0.06,-9,152), 5 (-0.65,-11,17), 6 (-0.08,-11,133)\n",
      "\n"
     ]
    },
    {
     "data": {
      "text/plain": [
       "(5, 4)"
      ]
     },
     "execution_count": 21,
     "metadata": {},
     "output_type": "execute_result"
    }
   ],
   "source": [
    "agentemmc.uct(1)"
   ]
  },
  {
   "cell_type": "code",
   "execution_count": null,
   "metadata": {},
   "outputs": [],
   "source": []
  },
  {
   "cell_type": "code",
   "execution_count": null,
   "metadata": {},
   "outputs": [],
   "source": []
  },
  {
   "cell_type": "code",
   "execution_count": 1,
   "metadata": {},
   "outputs": [],
   "source": [
    "from game.game import *\n",
    "from montecarlo.uct import *\n",
    "\n",
    "LARGO = 4\n",
    "TABLERO_ALTO = 6\n",
    "TABLERO_ANCHO = 7\n",
    "t = Connect4(TABLERO_ANCHO, TABLERO_ALTO, LARGO)\n",
    "#a = uct(t, 60, plot=False)"
   ]
  },
  {
   "cell_type": "code",
   "execution_count": 2,
   "metadata": {},
   "outputs": [
    {
     "name": "stdout",
     "output_type": "stream",
     "text": [
      "0 (-0.33,-1,3), 1 (-0.33,-1,3), 2 (-0.33,-1,3), 3 (1.0,41,41), 4 (-0.33,-1,3), 5 (0.0,0,4), 6 (-0.33,-1,3)\n",
      "\n",
      "[[0. 0. 0. 0. 0. 0. 0.]\n",
      " [0. 0. 0. 0. 0. 0. 0.]\n",
      " [0. 0. 0. 0. 0. 0. 0.]\n",
      " [0. 0. 0. 1. 2. 0. 0.]\n",
      " [0. 0. 0. 1. 2. 0. 0.]\n",
      " [0. 0. 0. 1. 2. 0. 0.]]\n",
      "(2, 3)\n"
     ]
    }
   ],
   "source": [
    "from game.game import *\n",
    "from montecarlo.uct import *\n",
    "\n",
    "LARGO = 4\n",
    "TABLERO_ALTO = 6\n",
    "TABLERO_ANCHO = 7\n",
    "t = Connect4(TABLERO_ANCHO, TABLERO_ALTO, LARGO)\n",
    "t.move(3)\n",
    "t.move(4)\n",
    "t.move(3)\n",
    "t.move(4)\n",
    "t.move(3)\n",
    "t.move(4)\n",
    "\n",
    "a = uct(t, 60, plot=True)\n",
    "t.show()\n",
    "print(a)"
   ]
  },
  {
   "cell_type": "code",
   "execution_count": 40,
   "metadata": {},
   "outputs": [
    {
     "name": "stdout",
     "output_type": "stream",
     "text": [
      "0 (-0.34,-20,58), 1 (0.78,636,812), 2 (-0.5,-16,32), 3 (-0.39,-19,49), 4 (-1.0,-9,9), 5 (-0.85,-11,13), 6 (-0.56,-15,27)\n",
      "\n",
      "[[0. 0. 0. 0. 0. 0. 0.]\n",
      " [0. 0. 0. 2. 0. 0. 0.]\n",
      " [0. 0. 0. 2. 0. 0. 0.]\n",
      " [0. 0. 0. 1. 0. 0. 0.]\n",
      " [0. 0. 0. 1. 0. 0. 0.]\n",
      " [0. 0. 1. 1. 0. 2. 2.]]\n"
     ]
    }
   ],
   "source": [
    "from game.game import *\n",
    "from montecarlo.uct import *\n",
    "\n",
    "LARGO = 4\n",
    "TABLERO_ALTO = 6\n",
    "TABLERO_ANCHO = 7\n",
    "t = Connect4(TABLERO_ANCHO, TABLERO_ALTO, LARGO)\n",
    "t.move(3)\n",
    "t.move(6)\n",
    "t.move(3)\n",
    "t.move(5)\n",
    "t.move(3)\n",
    "t.move(3)\n",
    "t.move(2)\n",
    "t.move(3)\n",
    "a = uct(t, 1000, plot=False)\n",
    "\n",
    "t.show()"
   ]
  },
  {
   "cell_type": "code",
   "execution_count": 30,
   "metadata": {},
   "outputs": [
    {
     "data": {
      "text/plain": [
       "2401"
      ]
     },
     "execution_count": 30,
     "metadata": {},
     "output_type": "execute_result"
    }
   ],
   "source": [
    "7*7*7*7"
   ]
  },
  {
   "cell_type": "code",
   "execution_count": 39,
   "metadata": {},
   "outputs": [
    {
     "name": "stdout",
     "output_type": "stream",
     "text": [
      "0 (-0.13,-28,208), 1 (-0.79,-15,19), 2 (-0.71,-15,21), 3 (-0.63,-17,27), 4 (-0.05,-32,667), 5 (-0.65,-17,26), 6 (-0.56,-18,32)\n",
      "\n"
     ]
    }
   ],
   "source": [
    "a = uct(t, 1000, plot=False)"
   ]
  },
  {
   "cell_type": "code",
   "execution_count": 21,
   "metadata": {},
   "outputs": [
    {
     "data": {
      "text/plain": [
       "1"
      ]
     },
     "execution_count": 21,
     "metadata": {},
     "output_type": "execute_result"
    }
   ],
   "source": [
    "t.current_player"
   ]
  },
  {
   "cell_type": "code",
   "execution_count": 13,
   "metadata": {},
   "outputs": [
    {
     "name": "stdout",
     "output_type": "stream",
     "text": [
      "[[0. 0. 0. 0. 0. 0. 0.]\n",
      " [0. 0. 0. 2. 0. 0. 0.]\n",
      " [0. 0. 0. 2. 0. 0. 0.]\n",
      " [0. 0. 0. 1. 0. 0. 0.]\n",
      " [0. 0. 0. 1. 0. 0. 0.]\n",
      " [0. 0. 1. 1. 0. 2. 2.]]\n"
     ]
    }
   ],
   "source": [
    "t.move(3)\n",
    "t.show()"
   ]
  },
  {
   "cell_type": "code",
   "execution_count": null,
   "metadata": {},
   "outputs": [],
   "source": []
  }
 ],
 "metadata": {
  "kernelspec": {
   "display_name": "Python 3",
   "language": "python",
   "name": "python3"
  },
  "language_info": {
   "codemirror_mode": {
    "name": "ipython",
    "version": 3
   },
   "file_extension": ".py",
   "mimetype": "text/x-python",
   "name": "python",
   "nbconvert_exporter": "python",
   "pygments_lexer": "ipython3",
   "version": "3.7.6"
  }
 },
 "nbformat": 4,
 "nbformat_minor": 4
}
