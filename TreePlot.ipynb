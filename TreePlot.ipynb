{
 "cells": [
  {
   "cell_type": "code",
   "execution_count": 5,
   "metadata": {},
   "outputs": [
    {
     "name": "stdout",
     "output_type": "stream",
     "text": [
      "(5, 0)\n"
     ]
    }
   ],
   "source": [
    "from game.game import *\n",
    "from montecarlo.uct import *\n",
    "\n",
    "LARGO = 4\n",
    "TABLERO_ALTO = 6\n",
    "TABLERO_ANCHO = 7\n",
    "t = Connect4(TABLERO_ANCHO, TABLERO_ALTO, LARGO)\n",
    "a = uct(t, 300, plot=True)\n",
    "print(a)\n",
    "import os\n",
    "os.startfile(\"C:/Users/Admin/Desktop/mcts/tree-plot.html\")"
   ]
  },
  {
   "cell_type": "code",
   "execution_count": 43,
   "metadata": {},
   "outputs": [
    {
     "name": "stdout",
     "output_type": "stream",
     "text": [
      "[[0. 0. 0. 0. 0. 0. 0.]\n",
      " [0. 0. 0. 0. 0. 0. 0.]\n",
      " [0. 2. 2. 0. 1. 2. 0.]\n",
      " [0. 1. 2. 0. 1. 2. 0.]\n",
      " [1. 1. 2. 1. 1. 1. 0.]\n",
      " [2. 2. 2. 1. 2. 1. 0.]]\n"
     ]
    }
   ],
   "source": [
    "t = Connect4(7,6,4)\n",
    "from random import sample\n",
    "while not t.end:t.move(sample(t.moves,1)[0][1])\n",
    "t.show()"
   ]
  },
  {
   "cell_type": "code",
   "execution_count": null,
   "metadata": {},
   "outputs": [],
   "source": []
  },
  {
   "cell_type": "code",
   "execution_count": null,
   "metadata": {},
   "outputs": [],
   "source": []
  },
  {
   "cell_type": "code",
   "execution_count": null,
   "metadata": {},
   "outputs": [],
   "source": []
  }
 ],
 "metadata": {
  "kernelspec": {
   "display_name": "Python 3",
   "language": "python",
   "name": "python3"
  },
  "language_info": {
   "codemirror_mode": {
    "name": "ipython",
    "version": 3
   },
   "file_extension": ".py",
   "mimetype": "text/x-python",
   "name": "python",
   "nbconvert_exporter": "python",
   "pygments_lexer": "ipython3",
   "version": "3.7.6"
  }
 },
 "nbformat": 4,
 "nbformat_minor": 4
}
